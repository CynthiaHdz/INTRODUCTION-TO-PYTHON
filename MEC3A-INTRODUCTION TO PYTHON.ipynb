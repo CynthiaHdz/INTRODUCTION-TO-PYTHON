{
 "cells": [
  {
   "cell_type": "markdown",
   "id": "805f5dac",
   "metadata": {},
   "source": [
    "**UNIVERSIDAD TECNOLOGICA DE ALTAMIRA**\n",
    "\n",
    "**Probability and Statistics**\n",
    "\n",
    "**Name:** Hernández Lugo Cynthia Estefanía\n",
    "\n",
    "**Group:** MEC3A\n",
    "\n",
    "**Code:** 492010106\n",
    "\n",
    "**Teacher:** Jesus Rafael Dominguez Torres"
   ]
  },
  {
   "cell_type": "markdown",
   "id": "dcb70709",
   "metadata": {},
   "source": [
    "---"
   ]
  },
  {
   "cell_type": "markdown",
   "id": "5ef0cc39",
   "metadata": {},
   "source": [
    "# INTRODUCTION TO PYTHON"
   ]
  },
  {
   "cell_type": "markdown",
   "id": "47f099c0",
   "metadata": {},
   "source": [
    "### The origin of Python.\n",
    "\n",
    "[Python](https://www.python.org/) is a programming language designed by computer scientist [Guido Van Rossum](https://gvanrossum.github.io//), developed in the late 80's and early 90's. Guido had carried out this language as a hobby, following the ABC language that he had used at the time. **Python's** name comes from his liking for *Monty Pythons*, which was a British comedy series that entertained the computer scientist at the time, and he was also looking for a mysterious and attention-grabbing name."
   ]
  },
  {
   "cell_type": "markdown",
   "id": "933928e2",
   "metadata": {},
   "source": [
    "![Guido](https://education.ti.com/-/media/ti/t3-europe/images/blog/blog-python-blog-guido.jpg?la=sv&rev=&hash=41A1B07606645F2CEB488BC4BDAB7C581E4CD803)"
   ]
  },
  {
   "cell_type": "markdown",
   "id": "98481cf0",
   "metadata": {},
   "source": [
    "### Python and its applications in technology.\n",
    "\n",
    "**Python** is known for being a multiparadigm language since it supports object-oriented programming, imperative programming and, to a lesser extent, functional programming. This language was created in a way that was easy to use, intuitive and friendly, thus being one of the most used languages, since as hardware technology advanced, its popularity increased. **Python** has many functionalities because it allows you to automate tasks, explore data, and it is very important in machine learning entertainment. It is not only limited to a single application area, as **Python** is used in web development, data science, machine learning, data analysis and even for simple game programming."
   ]
  },
  {
   "attachments": {},
   "cell_type": "markdown",
   "id": "3bc5e737",
   "metadata": {},
   "source": [
    "![Python](https://1000marcas.net/wp-content/uploads/2020/11/Python-logo.png)"
   ]
  },
  {
   "cell_type": "markdown",
   "id": "ca59a282",
   "metadata": {},
   "source": [
    "#### Here are some advantages and disadvantages of Python:"
   ]
  },
  {
   "cell_type": "markdown",
   "id": "d5864c20",
   "metadata": {},
   "source": [
    "Adventages | Disadvantages |\n",
    "--- | ---\n",
    "It is easy to use since it has enough tools to work. | It comes to contain libraries that may be unnecessary in some cases.\n",
    "Python is free software (Open Source). | It is usually slow when executing a program, so if you want to do a very complex program, it is not very convenient.\n",
    "It is cross-platform since it is compatible with several operating systems and not just one. | It may have hosting failures, since there will be servers that will be unable to support the Python language."
   ]
  },
  {
   "cell_type": "markdown",
   "id": "543b94b0",
   "metadata": {},
   "source": [
    "### The development of Python over the years.\n",
    "\n",
    ">Over the years, several versions of **Python** have been made public where respective improvements have been seen. In 1991, what would be the first test version of **Python**, version **0.9.0**, was released, revealing the module system from *Modula-3*, this being the largest unit for **Python** programming.\n",
    "A few years later, in 1994, version 1.0 arrived, which included very useful programming tools such as *Lambda, Reduce, Filter and Map*. The following year **Python 1.2** would be published, of which different versions of it were released.\n",
    "In 2000 **Python** made the decision to make its change to *BeOpen* and with this in progress, version **1.6** was published, which obtained a longer license compared to previous versions.\n",
    "Python at that time was not compatible with the *GPL* and because the [Free Software Foundation](https://www.fsf.org/?set_language=es) argued the incompatibility of **Python** with *GNU GPL*, an agreement was carried out where the **Python** license would change to a *Free Software license*, thus giving us the new version **1.6.1**.\n",
    "For version **2.0**, the implementation of list creation is carried out, a fundamental characteristic of the *Haskell* language, as well as a garbage collection system. During 2001 the creation of [Python Software Foundation](https://www.python.org/psf/) takes place and **Python 2.6** comes to light with the code, documentation and language specifications, all absolutely.\n",
    "And finally, version **3.0** is published in 2008, being in the same way as its previous versions but also designed to rectify flaws in the language and including new forms of programming."
   ]
  },
  {
   "cell_type": "markdown",
   "id": "5faf61e0",
   "metadata": {},
   "source": [
    "---"
   ]
  },
  {
   "cell_type": "markdown",
   "id": "1cf5c061",
   "metadata": {},
   "source": [
    "## Print statement\n",
    "\n",
    "The print command within Python leads to various functions such as printing a message, declaring variables, and even carrying out a string.\n",
    "\n",
    "The print () to display a message, for this to be true, the word must be in quotes. Here's an example:"
   ]
  },
  {
   "cell_type": "code",
   "execution_count": 1,
   "id": "ba979cea",
   "metadata": {},
   "outputs": [
    {
     "name": "stdout",
     "output_type": "stream",
     "text": [
      "Good morning\n"
     ]
    }
   ],
   "source": [
    "print(\"Good morning\")"
   ]
  },
  {
   "cell_type": "markdown",
   "id": "81a6b6fb",
   "metadata": {},
   "source": [
    "Print() is not only used in messages but also to declare variables, as it is also used to carry out equations, but in this to carry out one of these actions it is not necessary to use quotes:"
   ]
  },
  {
   "cell_type": "markdown",
   "id": "ace4edd2",
   "metadata": {},
   "source": [
    "*Variable*\n",
    "\n",
    "Remember to put the value of the variable before print (), this way it will not mark an error. In case you want to put the variable and the print () on different lines, remember to run the variable line first."
   ]
  },
  {
   "cell_type": "code",
   "execution_count": 5,
   "id": "03cfd041",
   "metadata": {},
   "outputs": [
    {
     "name": "stdout",
     "output_type": "stream",
     "text": [
      "Bye,bye.\n"
     ]
    }
   ],
   "source": [
    "x=\"Bye,bye.\"\n",
    "print(x)"
   ]
  },
  {
   "cell_type": "markdown",
   "id": "94ed7545",
   "metadata": {},
   "source": [
    "*Equation*"
   ]
  },
  {
   "cell_type": "code",
   "execution_count": 2,
   "id": "6ea3cbe6",
   "metadata": {},
   "outputs": [
    {
     "name": "stdout",
     "output_type": "stream",
     "text": [
      "How much is five plus three?\n",
      "8\n"
     ]
    }
   ],
   "source": [
    "print(\"How much is five plus three?\")\n",
    "print(5+3)"
   ]
  },
  {
   "cell_type": "markdown",
   "id": "e4caec76",
   "metadata": {},
   "source": [
    "If you want to print two printouts (but you want them to appear on the same line, it is important to use end = ”this will allow both messages to be seen on the same line:"
   ]
  },
  {
   "cell_type": "code",
   "execution_count": 8,
   "id": "93146332",
   "metadata": {},
   "outputs": [
    {
     "name": "stdout",
     "output_type": "stream",
     "text": [
      "My favourite animal is the fox.\n"
     ]
    }
   ],
   "source": [
    "print(\"My favourite animal is\",end='')\n",
    "print(\" the fox.\")"
   ]
  },
  {
   "cell_type": "markdown",
   "id": "edd7c298",
   "metadata": {},
   "source": [
    "To put a variable inside a text print, add the letter f at the beginning of the message (before the quotation marks) and use braces {} with the name of the variable you want to use.You can also use commas to separate variables."
   ]
  },
  {
   "cell_type": "code",
   "execution_count": 9,
   "id": "5bf8101a",
   "metadata": {},
   "outputs": [
    {
     "name": "stdout",
     "output_type": "stream",
     "text": [
      "I am 20 years old\n"
     ]
    }
   ],
   "source": [
    "xy=\"20\"\n",
    "print(f\"I am {xy} years old.\")"
   ]
  },
  {
   "cell_type": "code",
   "execution_count": 10,
   "id": "26ee40c0",
   "metadata": {},
   "outputs": [
    {
     "name": "stdout",
     "output_type": "stream",
     "text": [
      "My friend  Rodolfo  is  sad  today.\n"
     ]
    }
   ],
   "source": [
    "friend=\"Rodolfo\"\n",
    "E=\"sad\"\n",
    "print(\"My friend \",friend,\" is \",E,\" today.\")"
   ]
  },
  {
   "cell_type": "markdown",
   "id": "0fbab0c5",
   "metadata": {},
   "source": [
    "In this type of command we also use words such as imput where it tells us that we must write an answer, as well as the variable x.format (variabley) that helps us make a string variable."
   ]
  },
  {
   "cell_type": "code",
   "execution_count": 16,
   "id": "58536f60",
   "metadata": {},
   "outputs": [
    {
     "name": "stdout",
     "output_type": "stream",
     "text": [
      "What is your favorite singer?Bruno Mars\n",
      "Bruno Mars!?, I also adore that singer.\n"
     ]
    }
   ],
   "source": [
    "Answer= input(\"What is your favorite singer?\")\n",
    "Message= \"{}!?, I also adore that singer.\"\n",
    "print(Message.format(Answer))"
   ]
  },
  {
   "cell_type": "markdown",
   "id": "dfda4e52",
   "metadata": {},
   "source": [
    "---"
   ]
  },
  {
   "cell_type": "markdown",
   "id": "c5ef5bab",
   "metadata": {},
   "source": [
    "## If statement, Else statement & Elif statement \n",
    "\n",
    "**If:**\n",
    "\n",
    "The If statement, as in other programming programs such as the C language, is used so that a condition is established in a program. This statement for decision making evaluates a logical operation.\n",
    "To carry out a code with If in Python it is necessary to put a colon at the end, in this way a code block is created, also remember to indent 4 spaces to identify each block."
   ]
  },
  {
   "cell_type": "code",
   "execution_count": 12,
   "id": "5c46217e",
   "metadata": {},
   "outputs": [
    {
     "name": "stdout",
     "output_type": "stream",
     "text": [
      "x is less than y\n"
     ]
    }
   ],
   "source": [
    "x=1\n",
    "y=2\n",
    "if x<y:\n",
    "    print(\"x is less than y\") "
   ]
  },
  {
   "cell_type": "markdown",
   "id": "1d896c3b",
   "metadata": {},
   "source": [
    "In the event that you occupy another condition, when both conditions must be met, you must add an “and” between the two conditions that you are going to occupy, but if you only need one of those 2 conditions to be true, add “or” between them."
   ]
  },
  {
   "cell_type": "markdown",
   "id": "e4fab199",
   "metadata": {},
   "source": [
    "*With \"and\":*"
   ]
  },
  {
   "cell_type": "code",
   "execution_count": null,
   "id": "41102737",
   "metadata": {},
   "outputs": [],
   "source": [
    "x=4\n",
    "y=3\n",
    "z=2\n",
    "if x>=y and z<y:\n",
    "    print(\"All the conditions have been fulfilled\")"
   ]
  },
  {
   "cell_type": "markdown",
   "id": "8a942cc2",
   "metadata": {},
   "source": [
    "*With \"or\":*"
   ]
  },
  {
   "cell_type": "code",
   "execution_count": 14,
   "id": "f7b8ff6b",
   "metadata": {},
   "outputs": [
    {
     "name": "stdout",
     "output_type": "stream",
     "text": [
      "At least one of the conditions have been fulfilled.\n"
     ]
    }
   ],
   "source": [
    "x=100\n",
    "y=93\n",
    "z=151\n",
    "if x<=y or z>y:\n",
    "    print(\"At least one of the conditions have been fulfilled.\")"
   ]
  },
  {
   "cell_type": "markdown",
   "id": "e105c711",
   "metadata": {},
   "source": [
    "**Else:**\n",
    "\n",
    "The Else statement is also used to make a programming decision, but it is only used to carry out a part of the code, if the condition does not match the if statement, this will cause the statement to be determined as not fulfilled, passing to the else option."
   ]
  },
  {
   "cell_type": "code",
   "execution_count": 16,
   "id": "4e13bdff",
   "metadata": {},
   "outputs": [
    {
     "name": "stdout",
     "output_type": "stream",
     "text": [
      "P is less than O\n"
     ]
    }
   ],
   "source": [
    "P=8\n",
    "O=10\n",
    "if P<O:\n",
    "    print(\"P is less than O\")\n",
    "else:\n",
    "    print(\"P is greater than O\")"
   ]
  },
  {
   "cell_type": "markdown",
   "id": "85621040",
   "metadata": {},
   "source": [
    "**Elif:**\n",
    "\n",
    "The Elif statement is used as a second condition, giving you here to choose between 2 conditions, if the first condition is not fulfilled the program will logically look for if the second condition is fulfilled, but if it does not fulfill either of the two it will be a statement not fulfilled."
   ]
  },
  {
   "cell_type": "code",
   "execution_count": 15,
   "id": "cea94b74",
   "metadata": {},
   "outputs": [
    {
     "name": "stdout",
     "output_type": "stream",
     "text": [
      "E is greater than D\n"
     ]
    }
   ],
   "source": [
    "E=7\n",
    "D=3\n",
    "if E>D:\n",
    "    print(\"E is greater than D\")\n",
    "elif E<D:\n",
    "    print(\"E is less than D\")\n",
    "else:\n",
    "    print(\"E is equal to D\")"
   ]
  },
  {
   "cell_type": "markdown",
   "id": "0d3f08dd",
   "metadata": {},
   "source": [
    "---"
   ]
  },
  {
   "cell_type": "markdown",
   "id": "93f12b77",
   "metadata": {},
   "source": [
    "## Loops\n",
    "The Loops have the utility of repeating instructions in a certain number of times. In Python 2 types of loops are known, the \"for\" and the \"while\".\n",
    "\n",
    "**For:**\n",
    "\n",
    "The for loop is used when you have thought about how many times you want the instruction to be repeated, using a variable increasing the value by 1 when executed. Once it reaches its limit the cycle stops and continues with its next instruction. The structure taken to carry out the for loop is:\n",
    "for name of the variable in range (first value,last value)"
   ]
  },
  {
   "cell_type": "code",
   "execution_count": 2,
   "id": "99b16f50",
   "metadata": {},
   "outputs": [
    {
     "name": "stdout",
     "output_type": "stream",
     "text": [
      "Magic\n",
      "Magic\n",
      "Magic\n",
      "Magic\n",
      "Magic\n"
     ]
    }
   ],
   "source": [
    "for x in range(0,5):\n",
    "    print(\"Magic\")"
   ]
  },
  {
   "cell_type": "markdown",
   "id": "837da94f",
   "metadata": {},
   "source": [
    "The for loop can also be carried out by a list instead of a range, also in this loop we can use end = giving the option that when projecting the message or instruction write on the same line."
   ]
  },
  {
   "cell_type": "code",
   "execution_count": 4,
   "id": "5596d701",
   "metadata": {},
   "outputs": [
    {
     "name": "stdout",
     "output_type": "stream",
     "text": [
      "fox-dog-cat-wolf-lion"
     ]
    }
   ],
   "source": [
    "Animals=[\"fox-\",\"dog-\",\"cat-\",\"wolf-\",\"lion\"]\n",
    "for Animals in Animals:\n",
    "    print(Animals, end='')"
   ]
  },
  {
   "cell_type": "markdown",
   "id": "5217f92f",
   "metadata": {},
   "source": [
    "**While:**\n",
    "\n",
    "In the case of the While loop, this allows us to repeat the instruction of a section of the code until the condition is no longer met. Once the loop stops repeating it will end and continue with the next instruction."
   ]
  },
  {
   "cell_type": "code",
   "execution_count": 11,
   "id": "c3d562dc",
   "metadata": {},
   "outputs": [
    {
     "name": "stdout",
     "output_type": "stream",
     "text": [
      "Multiplication table of 2.\n",
      "2x1=2\n",
      "2x2=4\n",
      "2x3=6\n",
      "2x4=8\n",
      "2x5=10\n",
      "2x6=12\n",
      "2x7=14\n",
      "2x8=16\n",
      "2x9=18\n",
      "2x10=20\n"
     ]
    }
   ],
   "source": [
    "print(\"Multiplication table of 2.\")\n",
    "n=1\n",
    "while n<=10:\n",
    "    r=n*2\n",
    "    print(f\"2x{n}={r}\")\n",
    "    n=n+1\n"
   ]
  },
  {
   "cell_type": "markdown",
   "id": "14620012",
   "metadata": {},
   "source": [
    "---"
   ]
  },
  {
   "cell_type": "markdown",
   "id": "4da020a9",
   "metadata": {},
   "source": [
    "**References:**\n",
    "\n",
    "Juan Pablo Rojas Parra. (2017). La historia de Python.Retrieved September 14, 2021, from Platzi Sitio web: https://platzi.com/blog/historia-python/\n",
    "\n",
    "Asler Cedeño. (2020). Ventajas y desventajas de usar Python en la programación web.Retrieved September 15, 2021, from Bloguero Pro Sitio web: https://blogueropro.com/blog/ventajas-y-desventajas-de-usar-python-en-la-programacion-web\n",
    "\n",
    "Oscar [Develoteca]. (2019). ¿Que es Python y para que sirve? [Video]. Retreived September 14, 2021, from Youtube Sitio web: https://www.youtube.com/watch?v=lc5JJTQa4r8"
   ]
  }
 ],
 "metadata": {
  "kernelspec": {
   "display_name": "Python 3",
   "language": "python",
   "name": "python3"
  },
  "language_info": {
   "codemirror_mode": {
    "name": "ipython",
    "version": 3
   },
   "file_extension": ".py",
   "mimetype": "text/x-python",
   "name": "python",
   "nbconvert_exporter": "python",
   "pygments_lexer": "ipython3",
   "version": "3.8.8"
  }
 },
 "nbformat": 4,
 "nbformat_minor": 5
}
